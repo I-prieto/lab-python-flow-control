{
 "cells": [
  {
   "cell_type": "markdown",
   "id": "d3bfc191-8885-42ee-b0a0-bbab867c6f9f",
   "metadata": {
    "tags": []
   },
   "source": [
    "# Lab | Flow Control"
   ]
  },
  {
   "cell_type": "markdown",
   "id": "3851fcd1-cf98-4653-9c89-e003b7ec9400",
   "metadata": {},
   "source": [
    "## Exercise: Managing Customer Orders Optimized\n",
    "\n",
    "In the last lab, you were starting an online store that sells various products. To ensure smooth operations, you developed a program that manages customer orders and inventory.\n",
    "\n",
    "You did so without using flow control. Let's go a step further and improve this code.\n",
    "\n",
    "Follow the steps below to complete the exercise:\n",
    "\n",
    "1. Look at your code from the lab data structures, and improve repeated code with loops.\n",
    "\n",
    "2. Instead of asking the user to input the name of three products that a customer wants to order, do the following:\n",
    "    \n",
    "    a. Prompt the user to enter the name of a product that a customer wants to order.\n",
    "    \n",
    "    b. Add the product name to the \"customer_orders\" set.\n",
    "    \n",
    "    c. Ask the user if they want to add another product (yes/no).\n",
    "    \n",
    "    d. Continue the loop until the user does not want to add another product.\n",
    "\n",
    "3. Instead of updating the inventory by subtracting 1 from the quantity of each product, only do it for  the products that were ordered (those in \"customer_orders\")."
   ]
  },
  {
   "cell_type": "code",
   "execution_count": null,
   "id": "282db3d0",
   "metadata": {},
   "outputs": [],
   "source": [
    "#1 The code was already enhanced with loops in the previous lab"
   ]
  },
  {
   "cell_type": "code",
   "execution_count": null,
   "id": "55e72669",
   "metadata": {},
   "outputs": [],
   "source": []
  },
  {
   "cell_type": "code",
   "execution_count": 12,
   "id": "401e5b52",
   "metadata": {},
   "outputs": [
    {
     "name": "stdout",
     "output_type": "stream",
     "text": [
      "Inventory: {'t-shirt': 5, 'mug': 5, 'hat': 5, 'book': 5, 'keychain': 5}\n",
      "Choose products from this list:\n",
      "['t-shirt', 'mug', 'hat', 'book', 'keychain']\n",
      "Sorry, the product is not available.\n",
      "\n",
      "Customer Orders:\n",
      "- book\n",
      "\n",
      "Order Statistics:\n",
      "Total Products Ordered: 1\n",
      "\n",
      "Updated Inventory:\n",
      "t-shirt: 5\n",
      "mug: 5\n",
      "hat: 5\n",
      "book: 4\n",
      "keychain: 5\n"
     ]
    }
   ],
   "source": [
    "\n",
    "# 2 Enhancement: Allow user to select any number of products until they choose to stop.\n",
    "# Step 1: Define products\n",
    "products = [\"t-shirt\", \"mug\", \"hat\", \"book\", \"keychain\"]\n",
    "\n",
    "# Step 2: Create inventory dictionary\n",
    "inventory = {}\n",
    "\n",
    "# Step 3: Ask user for stock quantities\n",
    "for product in products:\n",
    "    inventory[product] = int(input(f\"Enter the quantity for {product}: \"))\n",
    "\n",
    "print(\"Inventory:\", inventory)\n",
    "\n",
    "# Step 4: Create customer_orders set\n",
    "customer_orders = set()\n",
    "# Step 5: Ask user to select products\n",
    "print(\"Choose products from this list:\")\n",
    "print(products)\n",
    "\n",
    "while True:\n",
    "    order = input(\"Insert product name for order: \")\n",
    "    if order in products:\n",
    "        customer_orders.add(order)\n",
    "    else:\n",
    "        print('Sorry, the product is not available.')\n",
    "    another = input('Would you like to add something else? (yes/no): ')\n",
    "    if another.lower() != 'yes':\n",
    "        break\n",
    "\n",
    "# Step 6: Print selected products\n",
    "print(\"\\nCustomer Orders:\")\n",
    "for item in customer_orders:\n",
    "    print(\"-\", item)\n",
    "\n",
    "# Step 7: Calculate order statistics\n",
    "total_products_ordered = len(customer_orders)\n",
    "order_status = (total_products_ordered, percentage_ordered)\n",
    "\n",
    "# Step 8: Print order statistics\n",
    "print(\"\\nOrder Statistics:\")\n",
    "print(\"Total Products Ordered:\", order_status[0])\n",
    "\n",
    "\n",
    "# Step 9: Update inventory (subtract 1 from each ordered item)\n",
    "for item in customer_orders:\n",
    "    inventory[item] -= 1\n",
    "\n",
    "# Step 10: Print updated inventory\n",
    "print(\"\\nUpdated Inventory:\")\n",
    "for product in products:\n",
    "    print(f\"{product}: {inventory[product]}\")"
   ]
  },
  {
   "cell_type": "code",
   "execution_count": null,
   "id": "4e3a0807",
   "metadata": {},
   "outputs": [],
   "source": []
  }
 ],
 "metadata": {
  "kernelspec": {
   "display_name": "Python 3",
   "language": "python",
   "name": "python3"
  },
  "language_info": {
   "codemirror_mode": {
    "name": "ipython",
    "version": 3
   },
   "file_extension": ".py",
   "mimetype": "text/x-python",
   "name": "python",
   "nbconvert_exporter": "python",
   "pygments_lexer": "ipython3",
   "version": "3.12.9"
  }
 },
 "nbformat": 4,
 "nbformat_minor": 5
}
